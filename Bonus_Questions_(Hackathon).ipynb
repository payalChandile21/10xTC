{
  "nbformat": 4,
  "nbformat_minor": 0,
  "metadata": {
    "colab": {
      "provenance": []
    },
    "kernelspec": {
      "name": "python3",
      "display_name": "Python 3"
    },
    "language_info": {
      "name": "python"
    }
  },
  "cells": [
    {
      "cell_type": "markdown",
      "source": [
        "BONUS QUESTION - 2 Budget Planner"
      ],
      "metadata": {
        "id": "hNRObqBd-6x9"
      }
    },
    {
      "cell_type": "code",
      "execution_count": 1,
      "metadata": {
        "colab": {
          "base_uri": "https://localhost:8080/",
          "height": 764
        },
        "id": "Ko9n68CC-r8s",
        "outputId": "454ade3d-5110-497d-d3ed-f4d72ec564a8"
      },
      "outputs": [
        {
          "output_type": "stream",
          "name": "stdout",
          "text": [
            "Welcome to the Budget Planner!\n",
            "Enter your sources of income (type 'done' when finished):\n",
            "Source: Freelancing\n",
            "Amount: Rs3000\n",
            "Source: Pocket money\n",
            "Amount: Rs1500\n",
            "Source: done\n",
            "Enter your expenses (type 'done' when finished):\n",
            "Expense category: Party\n",
            "Amount: Rs500\n",
            "Expense category: School expenses\n",
            "Amount: Rs500\n",
            "Expense category: done\n",
            "Your total savings: Rs3500.0\n"
          ]
        },
        {
          "output_type": "display_data",
          "data": {
            "text/plain": [
              "<Figure size 800x600 with 1 Axes>"
            ],
            "image/png": "[encoded data removed]"
          },
          "metadata": {}
        }
      ],
      "source": [
        "import matplotlib.pyplot as plt\n",
        "\n",
        "# Function to gather user income data\n",
        "def get_income():\n",
        "    print(\"Enter your sources of income (type 'done' when finished):\")\n",
        "    income = {}\n",
        "    while True:\n",
        "        source = input(\"Source: \")\n",
        "        if source.lower() == 'done':\n",
        "            break\n",
        "        amount = float(input(\"Amount: Rs\"))\n",
        "        income[source] = amount\n",
        "    return income\n",
        "\n",
        "# Function to gather user expenses data\n",
        "def get_expenses():\n",
        "    print(\"Enter your expenses (type 'done' when finished):\")\n",
        "    expenses = {}\n",
        "    while True:\n",
        "        category = input(\"Expense category: \")\n",
        "        if category.lower() == 'done':\n",
        "            break\n",
        "        amount = float(input(\"Amount: Rs\"))\n",
        "        expenses[category] = amount\n",
        "    return expenses\n",
        "\n",
        "# Function to calculate savings\n",
        "def calculate_savings(income, expenses):\n",
        "    total_income = sum(income.values())\n",
        "    total_expenses = sum(expenses.values())\n",
        "    savings = total_income - total_expenses\n",
        "    return savings\n",
        "\n",
        "# Function to visualize expenses as a pie chart\n",
        "def visualize_expenses(expenses):\n",
        "    labels = list(expenses.keys())\n",
        "    values = list(expenses.values())\n",
        "\n",
        "    plt.figure(figsize=(8, 6))\n",
        "    plt.pie(values, labels=labels, autopct='%1.1f%%')\n",
        "    plt.title('Expense Distribution')\n",
        "    plt.show()\n",
        "\n",
        "# Main function\n",
        "def main():\n",
        "    print(\"Welcome to the Budget Planner!\")\n",
        "    income = get_income()\n",
        "    expenses = get_expenses()\n",
        "\n",
        "    savings = calculate_savings(income, expenses)\n",
        "    print(f\"Your total savings: Rs{savings}\")\n",
        "\n",
        "    visualize_expenses(expenses)\n",
        "\n",
        "if __name__ == \"__main__\":\n",
        "    main()\n"
      ]
    },
    {
      "cell_type": "markdown",
      "source": [
        "BONNUS QUESTION - 3 ATM system"
      ],
      "metadata": {
        "id": "fCQC9thQ_cAQ"
      }
    },
    {
      "cell_type": "code",
      "source": [
        "# Initializing account balance\n",
        "account_balance = 10000  # Starting balance\n",
        "\n",
        "# Function to check account balance\n",
        "def check_balance():\n",
        "    print(f\"Your account balance is: Rs{account_balance}\")\n",
        "\n",
        "# Function to deposit money\n",
        "def deposit():\n",
        "    global account_balance  # Using the global balance variable\n",
        "    amount = float(input(\"Enter deposit amount: Rs\"))\n",
        "    account_balance += amount\n",
        "    print(f\"Rs{amount} deposited successfully.\")\n",
        "    check_balance()\n",
        "\n",
        "# Function to withdraw money\n",
        "def withdraw():\n",
        "    global account_balance  # Using the global balance variable\n",
        "    amount = float(input(\"Enter withdrawal amount: Rs\"))\n",
        "    if amount <= account_balance:\n",
        "        account_balance -= amount\n",
        "        print(f\"Rs{amount} withdrawn successfully.\")\n",
        "        check_balance()\n",
        "    else:\n",
        "        print(\"Insufficient funds.\")\n",
        "\n",
        "# Main program loop\n",
        "while True:\n",
        "    print(\"\\n--- Simple ATM ---\")\n",
        "    print(\"1. Check Balance\")\n",
        "    print(\"2. Deposit\")\n",
        "    print(\"3. Withdraw\")\n",
        "    print(\"4. Exit\")\n",
        "\n",
        "    choice = input(\"Enter your choice (1-4): \")\n",
        "\n",
        "    if choice == '1':\n",
        "        check_balance()\n",
        "    elif choice == '2':\n",
        "        deposit()\n",
        "    elif choice == '3':\n",
        "        withdraw()\n",
        "    elif choice == '4':\n",
        "        print(\"Exiting ATM. Thank you!\")\n",
        "        break\n",
        "    else:\n",
        "        print(\"Invalid choice. Please enter a valid option.\")\n"
      ],
      "metadata": {
        "colab": {
          "base_uri": "https://localhost:8080/"
        },
        "id": "Ibh2tEoV_6YH",
        "outputId": "d117d201-9131-405d-8b3f-b3c71485ab4c"
      },
      "execution_count": 4,
      "outputs": [
        {
          "output_type": "stream",
          "name": "stdout",
          "text": [
            "\n",
            "--- Simple ATM ---\n",
            "1. Check Balance\n",
            "2. Deposit\n",
            "3. Withdraw\n",
            "4. Exit\n",
            "Enter your choice (1-4): 1\n",
            "Your account balance is: Rs10000\n",
            "\n",
            "--- Simple ATM ---\n",
            "1. Check Balance\n",
            "2. Deposit\n",
            "3. Withdraw\n",
            "4. Exit\n",
            "Enter your choice (1-4): 2\n",
            "Enter deposit amount: Rs2000\n",
            "Rs2000.0 deposited successfully.\n",
            "Your account balance is: Rs12000.0\n",
            "\n",
            "--- Simple ATM ---\n",
            "1. Check Balance\n",
            "2. Deposit\n",
            "3. Withdraw\n",
            "4. Exit\n",
            "Enter your choice (1-4): 3\n",
            "Enter withdrawal amount: Rs500\n",
            "Rs500.0 withdrawn successfully.\n",
            "Your account balance is: Rs11500.0\n",
            "\n",
            "--- Simple ATM ---\n",
            "1. Check Balance\n",
            "2. Deposit\n",
            "3. Withdraw\n",
            "4. Exit\n",
            "Enter your choice (1-4): 4\n",
            "Exiting ATM. Thank you!\n"
          ]
        }
      ]
    },
    {
      "cell_type": "markdown",
      "source": [
        "BONUS QUESTION - 4 Word Counter"
      ],
      "metadata": {
        "id": "TQ4Z2Wq0DSan"
      }
    },
    {
      "cell_type": "code",
      "source": [
        "def word_counter(text):\n",
        "    # Split the text into words\n",
        "    words = text.split()\n",
        "\n",
        "    # Create an empty dictionary to store word counts\n",
        "    word_counts = {}\n",
        "\n",
        "    # Count occurrences of each word\n",
        "    for word in words:\n",
        "        # Remove punctuation and convert to lowercase for consistency\n",
        "        word = word.strip('.,?!').lower()\n",
        "\n",
        "        # Increment the count for each word in the dictionary\n",
        "        if word in word_counts:\n",
        "            word_counts[word] += 1\n",
        "        else:\n",
        "            word_counts[word] = 1\n",
        "\n",
        "    # Display word counts\n",
        "    print(\"Word Counts:\")\n",
        "    for word, count in word_counts.items():\n",
        "        print(f\"{word}: {count}\")\n",
        "\n",
        "# Example text input\n",
        "text_input = \"\"\"\n",
        "Python is an interpreted high-level programming language for general-purpose programming.\n",
        "Created by Guido van Rossum and first released in 1991, Python has a design philosophy\n",
        "that emphasizes code readability with its notable use of significant whitespace.\n",
        "\"\"\"\n",
        "\n",
        "# Run the word counter for the given text\n",
        "word_counter(text_input)\n"
      ],
      "metadata": {
        "colab": {
          "base_uri": "https://localhost:8080/"
        },
        "id": "czZ_b8FmBfZy",
        "outputId": "ff5ea436-60bf-4743-ebe3-e1319c557056"
      },
      "execution_count": 5,
      "outputs": [
        {
          "output_type": "stream",
          "name": "stdout",
          "text": [
            "Word Counts:\n",
            "python: 2\n",
            "is: 1\n",
            "an: 1\n",
            "interpreted: 1\n",
            "high-level: 1\n",
            "programming: 2\n",
            "language: 1\n",
            "for: 1\n",
            "general-purpose: 1\n",
            "created: 1\n",
            "by: 1\n",
            "guido: 1\n",
            "van: 1\n",
            "rossum: 1\n",
            "and: 1\n",
            "first: 1\n",
            "released: 1\n",
            "in: 1\n",
            "1991: 1\n",
            "has: 1\n",
            "a: 1\n",
            "design: 1\n",
            "philosophy: 1\n",
            "that: 1\n",
            "emphasizes: 1\n",
            "code: 1\n",
            "readability: 1\n",
            "with: 1\n",
            "its: 1\n",
            "notable: 1\n",
            "use: 1\n",
            "of: 1\n",
            "significant: 1\n",
            "whitespace: 1\n"
          ]
        }
      ]
    },
    {
      "cell_type": "markdown",
      "source": [
        "BONUS QUESTION - 5  Quiz Generator\n"
      ],
      "metadata": {
        "id": "pgw73GtQD8eI"
      }
    },
    {
      "cell_type": "code",
      "source": [
        "def run_quiz(questions):\n",
        "    score = 0\n",
        "    for question in questions:\n",
        "        print(question['question'])\n",
        "        print(\"Options:\")\n",
        "        for idx, option in enumerate(question['options'], start=1):\n",
        "            print(f\"{idx}. {option}\")\n",
        "\n",
        "        user_answer = int(input(\"Enter your answer (1-4): \"))\n",
        "        correct_answer = question['answer']\n",
        "\n",
        "        if user_answer == correct_answer:\n",
        "            print(\"Correct!\")\n",
        "            score += 1\n",
        "        else:\n",
        "            print(f\"Wrong! Correct answer is: {question['options'][correct_answer - 1]}\")\n",
        "\n",
        "    print(f\"\\nQuiz completed! Your score is: {score}/{len(questions)}\")\n",
        "\n",
        "# Questions dictionary containing questions, options, and correct answers\n",
        "questions = [\n",
        "    {\n",
        "        \"question\": \"What is the capital of France?\",\n",
        "        \"options\": [\"Paris\", \"London\", \"Berlin\", \"Rome\"],\n",
        "        \"answer\": 1  # Index of the correct answer in the 'options' list\n",
        "    },\n",
        "    {\n",
        "        \"question\": \"Which planet is known as the Red Planet?\",\n",
        "        \"options\": [\"Earth\", \"Mars\", \"Venus\", \"Jupiter\"],\n",
        "        \"answer\": 2\n",
        "    },\n",
        "    {\n",
        "        \"question\": \"Who painted the Mona Lisa?\",\n",
        "        \"options\": [\"Pablo Picasso\", \"Leonardo da Vinci\", \"Vincent van Gogh\", \"Michelangelo\"],\n",
        "        \"answer\": 2\n",
        "    }\n",
        "]\n",
        "\n",
        "# Run the quiz\n",
        "run_quiz(questions)\n"
      ],
      "metadata": {
        "colab": {
          "base_uri": "https://localhost:8080/"
        },
        "id": "PKBAS-IuDG_q",
        "outputId": "cc52ff61-2960-4463-d1d4-98d52c3346bb"
      },
      "execution_count": 6,
      "outputs": [
        {
          "output_type": "stream",
          "name": "stdout",
          "text": [
            "What is the capital of France?\n",
            "Options:\n",
            "1. Paris\n",
            "2. London\n",
            "3. Berlin\n",
            "4. Rome\n",
            "Enter your answer (1-4): 1\n",
            "Correct!\n",
            "Which planet is known as the Red Planet?\n",
            "Options:\n",
            "1. Earth\n",
            "2. Mars\n",
            "3. Venus\n",
            "4. Jupiter\n",
            "Enter your answer (1-4): 1\n",
            "Wrong! Correct answer is: Mars\n",
            "Who painted the Mona Lisa?\n",
            "Options:\n",
            "1. Pablo Picasso\n",
            "2. Leonardo da Vinci\n",
            "3. Vincent van Gogh\n",
            "4. Michelangelo\n",
            "Enter your answer (1-4): 1\n",
            "Wrong! Correct answer is: Leonardo da Vinci\n",
            "\n",
            "Quiz completed! Your score is: 1/3\n"
          ]
        }
      ]
    },
    {
      "cell_type": "code",
      "source": [],
      "metadata": {
        "id": "YvGOV5MPEF6K"
      },
      "execution_count": null,
      "outputs": []
    }
  ]
}